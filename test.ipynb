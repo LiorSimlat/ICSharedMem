{
 "cells": [
  {
   "cell_type": "code",
   "execution_count": 1,
   "id": "6cd3796f",
   "metadata": {},
   "outputs": [],
   "source": [
    "with open(r\"F:\\to_test\\5.jp2\", \"rb\") as f:\n",
    "    image_bytes = f.read()"
   ]
  },
  {
   "cell_type": "code",
   "execution_count": 5,
   "id": "6c0ac0fb",
   "metadata": {},
   "outputs": [
    {
     "data": {
      "text/plain": [
       "1089"
      ]
     },
     "execution_count": 5,
     "metadata": {},
     "output_type": "execute_result"
    }
   ],
   "source": [
    "len(image_bytes)"
   ]
  },
  {
   "cell_type": "code",
   "execution_count": 3,
   "id": "2d302f56",
   "metadata": {},
   "outputs": [],
   "source": [
    "with open(r\"F:\\to_test\\output.jp2\", \"rb\") as f:\n",
    "    image_bytes_1 = f.read()"
   ]
  },
  {
   "cell_type": "code",
   "execution_count": 6,
   "id": "78f9a948",
   "metadata": {},
   "outputs": [
    {
     "data": {
      "text/plain": [
       "1091"
      ]
     },
     "execution_count": 6,
     "metadata": {},
     "output_type": "execute_result"
    }
   ],
   "source": [
    "len(image_bytes_1)"
   ]
  }
 ],
 "metadata": {
  "kernelspec": {
   "display_name": "venv",
   "language": "python",
   "name": "python3"
  },
  "language_info": {
   "codemirror_mode": {
    "name": "ipython",
    "version": 3
   },
   "file_extension": ".py",
   "mimetype": "text/x-python",
   "name": "python",
   "nbconvert_exporter": "python",
   "pygments_lexer": "ipython3",
   "version": "3.12.8"
  }
 },
 "nbformat": 4,
 "nbformat_minor": 5
}
